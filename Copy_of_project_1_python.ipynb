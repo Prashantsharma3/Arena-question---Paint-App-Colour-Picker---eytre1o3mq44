{
  "nbformat": 4,
  "nbformat_minor": 0,
  "metadata": {
    "colab": {
      "provenance": [],
      "toc_visible": true,
      "authorship_tag": "ABX9TyM/RFiWUIj0cU4KJi0zbC2b",
      "include_colab_link": true
    },
    "kernelspec": {
      "name": "python3",
      "display_name": "Python 3"
    },
    "language_info": {
      "name": "python"
    }
  },
  "cells": [
    {
      "cell_type": "markdown",
      "metadata": {
        "id": "view-in-github",
        "colab_type": "text"
      },
      "source": [
        "<a href=\"https://colab.research.google.com/github/Prashantsharma3/Arena-question---Paint-App-Colour-Picker---eytre1o3mq44/blob/main/Copy_of_project_1_python.ipynb\" target=\"_parent\"><img src=\"https://colab.research.google.com/assets/colab-badge.svg\" alt=\"Open In Colab\"/></a>"
      ]
    },
    {
      "cell_type": "code",
      "execution_count": null,
      "metadata": {
        "id": "oXn1KNT_mxKf"
      },
      "outputs": [],
      "source": []
    },
    {
      "cell_type": "markdown",
      "source": [],
      "metadata": {
        "id": "Sz2cigWem1us"
      }
    },
    {
      "cell_type": "code",
      "source": [
        "class Student:\n",
        "    def __init__(self, name, roll_number, age):\n",
        "        self.name = name\n",
        "        self.roll_number = roll_number\n",
        "        self.age = age\n",
        "\n",
        "class StudentManagementSystem:\n",
        "    def __init__(self):\n",
        "        self.students = []\n",
        "\n",
        "    def view_student_list(self):\n",
        "        print(\"Student List:\")\n",
        "        for student in self.students:\n",
        "            print(f\"Name: {student.name}, Roll Number: {student.roll_number}, Age: {student.age}\")\n",
        "\n",
        "    def add_student(self):\n",
        "        name = input(\"Enter student name: \")\n",
        "        roll_number = input(\"Enter roll number: \")\n",
        "        age = input(\"Enter age: \")\n",
        "        student = Student(name, roll_number, age)\n",
        "        self.students.append(student)\n",
        "        print(\"Student added successfully!\")\n",
        "\n",
        "    def remove_student(self):\n",
        "        roll_number = input(\"Enter the roll number of the student to remove: \")\n",
        "        for student in self.students:\n",
        "            if student.roll_number == roll_number:\n",
        "                self.students.remove(student)\n",
        "                print(\"Student removed successfully!\")\n",
        "                return\n",
        "        print(\"Student not found.\")\n",
        "\n",
        "    def search_student(self):\n",
        "        roll_number = input(\"Enter the roll number of the student to search: \")\n",
        "        for student in self.students:\n",
        "            if student.roll_number == roll_number:\n",
        "                print(f\"Student found - Name: {student.name}, Roll Number: {student.roll_number}, Age: {student.age}\")\n",
        "                return\n",
        "        print(\"Student not found.\")\n",
        "\n",
        "    def run(self):\n",
        "        while True:\n",
        "            print(\"\\nWelcome to Student Management System\")\n",
        "            print(\"1. View student list\")\n",
        "            print(\"2. Add new student\")\n",
        "            print(\"3. Remove student\")\n",
        "            print(\"4. Search student\")\n",
        "            print(\"5. Exit\")\n",
        "            choice = input(\"Enter your choice: \")\n",
        "\n",
        "            if choice == '1':\n",
        "                self.view_student_list()\n",
        "            elif choice == '2':\n",
        "                self.add_student()\n",
        "            elif choice == '3':\n",
        "                self.remove_student()\n",
        "            elif choice == '4':\n",
        "                self.search_student()\n",
        "            elif choice == '5':\n",
        "                print(\"Exiting...\")\n",
        "                break\n",
        "            else:\n",
        "                print(\"Invalid choice. Please select a valid option.\")\n",
        "\n",
        "if __name__ == \"__main__\":\n",
        "    sms = StudentManagementSystem()\n",
        "    sms.run()"
      ],
      "metadata": {
        "colab": {
          "base_uri": "https://localhost:8080/"
        },
        "id": "rCSKlZvVppGg",
        "outputId": "a32bfb7f-6370-4f61-9098-d3a8398c74e4"
      },
      "execution_count": null,
      "outputs": [
        {
          "output_type": "stream",
          "name": "stdout",
          "text": [
            "\n",
            "Welcome to Student Management System\n",
            "1. View student list\n",
            "2. Add new student\n",
            "3. Remove student\n",
            "4. Search student\n",
            "5. Exit\n",
            "Enter your choice: 1\n",
            "Student List:\n",
            "\n",
            "Welcome to Student Management System\n",
            "1. View student list\n",
            "2. Add new student\n",
            "3. Remove student\n",
            "4. Search student\n",
            "5. Exit\n",
            "Enter your choice: 1\n",
            "Student List:\n",
            "\n",
            "Welcome to Student Management System\n",
            "1. View student list\n",
            "2. Add new student\n",
            "3. Remove student\n",
            "4. Search student\n",
            "5. Exit\n",
            "Enter your choice: 2\n",
            "Enter student name: Prashant Sharma\n",
            "Enter roll number: 124567890\n",
            "Enter age: 23\n",
            "Student added successfully!\n",
            "\n",
            "Welcome to Student Management System\n",
            "1. View student list\n",
            "2. Add new student\n",
            "3. Remove student\n",
            "4. Search student\n",
            "5. Exit\n",
            "Enter your choice: 4\n",
            "Enter the roll number of the student to search: 1234567890\n",
            "Student not found.\n",
            "\n",
            "Welcome to Student Management System\n",
            "1. View student list\n",
            "2. Add new student\n",
            "3. Remove student\n",
            "4. Search student\n",
            "5. Exit\n"
          ]
        }
      ]
    }
  ]
}